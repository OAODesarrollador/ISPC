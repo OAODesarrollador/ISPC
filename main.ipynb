{
 "cells": [
  {
   "cell_type": "markdown",
   "metadata": {},
   "source": [
    "ISPC_CienciaDeDatos_I - 2024 - Cohorte 2023\n",
    "\n",
    "Trabajo práctico primera etapa:\n",
    "El dataset elegido es.........\n",
    "\n",
    "https://www.kaggle.com/datasets/aletbm/argentina-salary-survey-sysarmy\n",
    "\n",
    "Integrantes:\n",
    "    Gesto, Giuliana\n",
    "    López, Vanesa\n",
    "    Ortiz, Oscar Alejandro\n",
    "    Siccardi, Luis\n",
    "    Solá, Martín Hernán\n",
    "    Suarez, Juan Pablo\n",
    "    Urzagaste, Gisela\n",
    "    Vega, Franco"
   ]
  },
  {
   "cell_type": "markdown",
   "metadata": {},
   "source": [
    "Importar los datos"
   ]
  },
  {
   "cell_type": "code",
   "execution_count": null,
   "metadata": {},
   "outputs": [],
   "source": [
    "import pandas as pd\n",
    "\n",
    "# lectura del dataset\n",
    "encuestaSalarial = pd.read_csv('Datos/EncuestaRemuneracionSalarialArgentina2023.csv')\n",
    "print(\"Dataset original\")\n",
    "print(encuestaSalarial)\n",
    "\n",
    "# Elimina registros duplicados\n",
    "encuestaSalarial = encuestaSalarial.drop_duplicates()\n",
    "print(\"Dataset sin duplicados\")\n",
    "print(encuestaSalarial)"
   ]
  },
  {
   "cell_type": "markdown",
   "metadata": {},
   "source": [
    "Imprimir los 10 primeros registros y describir el dataset"
   ]
  },
  {
   "cell_type": "code",
   "execution_count": null,
   "metadata": {},
   "outputs": [],
   "source": []
  },
  {
   "cell_type": "markdown",
   "metadata": {},
   "source": [
    "Por cada columna:\n",
    "• En las columnas numéricas analizar la cantidad de valores válidos sobre el total, media y mediana, desviación estándar, valores ausentes y mal registrados o erróneos."
   ]
  },
  {
   "cell_type": "code",
   "execution_count": null,
   "metadata": {},
   "outputs": [],
   "source": []
  },
  {
   "cell_type": "markdown",
   "metadata": {},
   "source": [
    "En las variables categóricas analizar la cantidad de registros para cada categoría, registros válidos sobre el total, ausentes y mal registrados."
   ]
  },
  {
   "cell_type": "code",
   "execution_count": null,
   "metadata": {},
   "outputs": [],
   "source": []
  },
  {
   "cell_type": "markdown",
   "metadata": {},
   "source": [
    "En otras variables que contienen registros válidos sobre el total, ausentes y mal registrados."
   ]
  },
  {
   "cell_type": "code",
   "execution_count": null,
   "metadata": {},
   "outputs": [],
   "source": []
  }
 ],
 "metadata": {
  "kernelspec": {
   "display_name": "Python 3",
   "language": "python",
   "name": "python3"
  },
  "language_info": {
   "codemirror_mode": {
    "name": "ipython",
    "version": 3
   },
   "file_extension": ".py",
   "mimetype": "text/x-python",
   "name": "python",
   "nbconvert_exporter": "python",
   "pygments_lexer": "ipython3",
   "version": "3.12.2"
  }
 },
 "nbformat": 4,
 "nbformat_minor": 2
}
